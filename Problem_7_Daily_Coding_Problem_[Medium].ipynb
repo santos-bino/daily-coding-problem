{
  "nbformat": 4,
  "nbformat_minor": 0,
  "metadata": {
    "colab": {
      "name": "Problem #7 - Daily Coding Problem [Medium].ipynb",
      "provenance": [],
      "collapsed_sections": [
        "qhTsDUPlVfzE",
        "5-wL5dViQQI_",
        "G4yBIh2t8smA",
        "QevaJZv5QMM3",
        "vzXWq11mTfWs"
      ],
      "authorship_tag": "ABX9TyNJcB0tF8VFCukSuP1dwD0s",
      "include_colab_link": true
    },
    "kernelspec": {
      "name": "python3",
      "display_name": "Python 3"
    },
    "language_info": {
      "name": "python"
    }
  },
  "cells": [
    {
      "cell_type": "markdown",
      "metadata": {
        "id": "view-in-github",
        "colab_type": "text"
      },
      "source": [
        "<a href=\"https://colab.research.google.com/github/olv-leo/daily-coding-problem/blob/main/Problem_7_Daily_Coding_Problem_%5BMedium%5D.ipynb\" target=\"_parent\"><img src=\"https://colab.research.google.com/assets/colab-badge.svg\" alt=\"Open In Colab\"/></a>"
      ]
    },
    {
      "cell_type": "markdown",
      "metadata": {
        "id": "liGtKpcOwuP1"
      },
      "source": [
        "# **Problem #7 [Medium]**\n",
        "**This problem was asked by Facebook.**\n",
        "\n",
        "Given the mapping a = 1, b = 2, ..., z = 26, and an encoded message, count the number of ways it can be decoded.\n",
        "\n",
        "For example, the message '111' would give 3, since it could be decoded as 'aaa', 'ka', and 'ak'.\n",
        "\n",
        "You can assume that the messages are decodable. For example, '001' is not allowed.\n"
      ]
    },
    {
      "cell_type": "markdown",
      "metadata": {
        "id": "HVs0OPkzfjYd"
      },
      "source": [
        "## **Tradução**\n",
        "\n",
        "Dado o seguinte mapa a = 1, b = 2, ... z = 26 e uma mensagem codificada, conte o número de maneiras que a mensagem pode ser decodificada.\n",
        "\n",
        "Por exemplo, para a mensagem '111' a resposta seria 3, pois ela pode ser decodificada como 'aaa', 'ka' e 'ak'.\n",
        "\n",
        "Você pode assumir que as mensagens são decodificáveis. Mensagens como '001' não serão permitidas."
      ]
    },
    {
      "cell_type": "markdown",
      "metadata": {
        "id": "5-wL5dViQQI_"
      },
      "source": [
        "#**Explicação da resposta**"
      ]
    },
    {
      "cell_type": "markdown",
      "metadata": {
        "id": "G4yBIh2t8smA"
      },
      "source": [
        "## **Mapa das letras**\n",
        "Como nesse primeiro momento nosso objetivo é entender o problema, ter um mapa de todas as letras nos ajudará a fazer exemplos menores para conseguir criar uma lógica contempla todos os casos."
      ]
    },
    {
      "cell_type": "markdown",
      "metadata": {
        "id": "WW9b-0uexNA-"
      },
      "source": [
        "| a | b | c | d | e | f | g | h | i | j | k | l | m | n | o | p | q | r | s | t | u | v | w | x | y | z |\n",
        "| - | - | - | - | - | - | - | - | - | - | - | - | - | - | - | - | - | - | - | - | - | - | - | - | - | - |\n",
        "| 1 | 2 | 3 | 4 | 5 | 6 | 7 | 8 | 9 | 10 | 11 | 12 | 13 | 14 | 15 | 16 | 17 | 18 | 19 | 20 | 21 | 22 | 23 | 24 | 25 | 26 |"
      ]
    },
    {
      "cell_type": "markdown",
      "metadata": {
        "id": "cgB87bt_2rK4"
      },
      "source": [
        "## **Entendendo o problema**\n",
        "Para começar, vamos ver a solução de alguns casos mais simples, nossa ideia é entender a dinâmica do problema.  "
      ]
    },
    {
      "cell_type": "markdown",
      "metadata": {
        "id": "OMLZ_n6I8l9n"
      },
      "source": [
        "### **1º Caso:** Input = 12\n",
        "\n",
        "Podemos decodificar como:\n",
        "> 12 = l  \n",
        "1-2 = a-b  \n",
        "possibilidades = [a-b, l]  \n",
        "**Output = 2**  \n",
        "\n",
        "---\n",
        "### **2º Caso:** Input = 123\n",
        "Podemos decodificar como:\n",
        "> 123 = **Impossível**, pois 123 > 23  \n",
        "12-3 = l-c  \n",
        "1-23 = a-w  \n",
        "1-2-3 = a-b-c  \n",
        "possibilidades = [a-b-c, a-w, l-c]  \n",
        "**Output = 3**  \n",
        "\n",
        "----\n",
        "### **3º Caso:** Input = 1234\n",
        "Podemos decodificar como:\n",
        "> 1234 = **Impossível**, pois 123 > 26  \n",
        "123-4 = **Impossível**, pois 123 > 26    \n",
        "12-34 = **Impossível**, pois 123 > 26  \n",
        "12-3-4 = l-c-d    \n",
        "1-234 = **Impossível**, pois 123 > 26  \n",
        "1-23-4 = a-w-d  \n",
        "1-2-34 = **Impossível**, pois 34 > 26\n",
        "1-2-3-4 = a-b-c-d  \n",
        "possibilidades = [a-b-c-d, a-x-d, l-c-d]  \n",
        "**Output = 3**"
      ]
    },
    {
      "cell_type": "markdown",
      "metadata": {
        "id": "rRIMvHok84Pa"
      },
      "source": [
        "## **Número de decodificações**\n",
        "Logo notamos que precisamos separar as decodificações em dois grupos, as possíveis e as impossíveis, sendo as possíveis são todas as que não tem nenhum elemento maior que 26, o número de letras do alfabeto.\n",
        "\n"
      ]
    },
    {
      "cell_type": "markdown",
      "metadata": {
        "id": "nCC0YrOlK6hq"
      },
      "source": [
        "Considerando o total de decodificações para cada input (ou seja, considerando tanto as possíveis como as impossíveis) temos o seguinte:\n",
        "*  input = 12 | decodificações = 2\n",
        "*  input = 123 | decodificações = 4\n",
        "*  input = 1234 | decodificações = 8\n",
        "\n",
        "Ou seja, o número de total de decodificações dobra a cada elemento adicionado no input."
      ]
    },
    {
      "cell_type": "markdown",
      "metadata": {
        "id": "53kqXbSM9IyP"
      },
      "source": [
        "### **Solução atual x solução anterior**"
      ]
    },
    {
      "cell_type": "markdown",
      "metadata": {
        "id": "FD76F5IPBB--"
      },
      "source": [
        "\n",
        "Como já vimos para 12 a solução é:\n",
        "> 12 = l  \n",
        "1-2 = a-b  \n",
        "possibilidades = [a-b, l]  \n",
        "**Output = 2**  \n",
        "\n",
        "Para 123 é:\n",
        "> 123 = **Impossível**, pois 123 > 26  \n",
        "12-3 = l-c  \n",
        "1-23 = a-w  \n",
        "1-2-3 = a-b-c  \n",
        "possibilitardes = [a-b-c, a-w, l-c]  \n",
        "**Output = 3**\n",
        "\n",
        "Olhando com calma a solução 123 podemos observar o seguinte:\n",
        "> **12**3 = **Impossível**, pois 123 > 26  \n",
        "**12**-3 = l-c  \n",
        "**1-2**3 = a-w  \n",
        "**1-2**-3 = a-b-c  \n",
        "possibilitardes = [a-b-c, a-w, l-c]  \n",
        "**Output = 3**\n",
        "\n",
        "Os valores destacados são:\n",
        "> 12 (2x)  \n",
        "1-2 (2x)\n",
        "\n",
        "Que são exatamente a solução para o input 12, com a diferença que para a solução de 123 adicionamos o 3 aos dois valores (12, 1-2), primeiro junto:\n",
        "> **12**3  \n",
        "**1-2**3\n",
        "\n",
        "Depois separado:\n",
        "> **12**-3  \n",
        "**1-2**-3\n",
        "\n",
        "Ou seja, para resolver o problema atual (123) pegamos a solução do problema anterior (12) e adicionamos o novo elemento (3) junto e separado.\n",
        "\n",
        "Seguindo essa lógica:\n",
        "*  A solução para 1234 seria a solução para 123 adicionado o 4 junto e separado\n",
        "*  A solução para 123 seria a solução para 12 adicionado o 3 junto e separado\n",
        "*  A solução para 12 seria a solução para 1 adicionado o 2 junto e separado\n",
        "*  A solução para 1 seria o próprio 1\n",
        "\n",
        "Logo, é possível gerar uma lista de todas as decodificações (possíveis e impossíveis) utilizando uma Recursão!"
      ]
    },
    {
      "cell_type": "markdown",
      "metadata": {
        "id": "Jg8XBtVBBJCm"
      },
      "source": [
        "Convertendo para Python temos:"
      ]
    },
    {
      "cell_type": "code",
      "metadata": {
        "id": "T7GG-WCEBSmA"
      },
      "source": [
        "# Essa função cria uma lista com todas as possibilidades de decodificações (possíveis e impossíveis) de um código\n",
        "def num_de_maneiras(cod):\n",
        "  # Retorna o primeiro número do código (último passo da regressão) \n",
        "  if len(cod) == 1: return list(cod)  \n",
        "\n",
        "  # Separa o último digito do código do restante\n",
        "  ultimo = cod[-1]\n",
        "  restante = num_de_maneiras(cod[:-1])\n",
        "  resultado = []\n",
        "    \n",
        "  # Cria uma tupla com dois elementos (penultimo passo da regressão)\n",
        "  if len(restante) == 1: return[(restante[0],ultimo),tuple([f'{restante[0]}{ultimo}'])]\n",
        "\n",
        "  # Faz todas as combinações possiveis para a decodificação colocando os elementos primeiro separado depois junto\n",
        "  for item in restante:\n",
        "      item = list(item)\n",
        "      item.append(ultimo)\n",
        "      resultado.append(tuple(item))\n",
        "\n",
        "      item.pop()\n",
        "      item[-1] = f'{item[-1]}{ultimo}'\n",
        "      resultado.append(tuple(item))\n",
        "  return resultado"
      ],
      "execution_count": null,
      "outputs": []
    },
    {
      "cell_type": "markdown",
      "metadata": {
        "id": "rqLwVg2HJVTs"
      },
      "source": [
        "#### Testando a função\n",
        "Com a função num_de_maneiras definida, podemos fazer alguns testes para verificar se ela está funcionando corretamente, vamos testar com:\n",
        "*  12\n",
        "*  123\n",
        "*  1234\n",
        "*  112\n",
        "*  227\n",
        "*  1111"
      ]
    },
    {
      "cell_type": "code",
      "metadata": {
        "colab": {
          "base_uri": "https://localhost:8080/"
        },
        "id": "dtc7d0ZeJkuE",
        "outputId": "f27e5717-72d1-498d-f439-59b37754d73e"
      },
      "source": [
        "testes = ['12', '123', '1234', '112', '227', '1111']\n",
        "\n",
        "for cod in testes:\n",
        "  print(num_de_maneiras(cod))"
      ],
      "execution_count": null,
      "outputs": [
        {
          "output_type": "stream",
          "name": "stdout",
          "text": [
            "[('1', '2'), ('12',)]\n",
            "[('1', '2', '3'), ('1', '23'), ('12', '3'), ('123',)]\n",
            "[('1', '2', '3', '4'), ('1', '2', '34'), ('1', '23', '4'), ('1', '234'), ('12', '3', '4'), ('12', '34'), ('123', '4'), ('1234',)]\n",
            "[('1', '1', '2'), ('1', '12'), ('11', '2'), ('112',)]\n",
            "[('2', '2', '7'), ('2', '27'), ('22', '7'), ('227',)]\n",
            "[('1', '1', '1', '1'), ('1', '1', '11'), ('1', '11', '1'), ('1', '111'), ('11', '1', '1'), ('11', '11'), ('111', '1'), ('1111',)]\n"
          ]
        }
      ]
    },
    {
      "cell_type": "markdown",
      "metadata": {
        "id": "KbnYEEG2Kq3d"
      },
      "source": [
        "A função está funcionando como esperado, gerando todas as decodificações para um código dado. "
      ]
    },
    {
      "cell_type": "markdown",
      "metadata": {
        "id": "NY47gVJzMUPc"
      },
      "source": [
        "## **Filtrando decodificações possíveis**\n",
        "\n",
        "Com a função num_de_maneiras obtemos uma lista de todas as decodificações possíveis para um dado código, nosso objetivo agora é escrever uma função que elimine as decodificações impossíveis."
      ]
    },
    {
      "cell_type": "markdown",
      "metadata": {
        "id": "SgJwL3TeNyGZ"
      },
      "source": [
        "### Eliminando decodificações impossíveis\n",
        "Uma decodificação é considerada possível quando seu maior elemento é menor ou igual a 26, sendo assim, podemos verificar o maior elemento de cada uma das tuplas do resultado da função num_de_maneiras, se o maior elemento da tupla for maior que 26 eliminamos a tupla, caso contrário adicionamos a tupla a nossa resposta.\n",
        "\n",
        "Em Python temos:"
      ]
    },
    {
      "cell_type": "code",
      "metadata": {
        "id": "454cO7iLNxFs"
      },
      "source": [
        "def eliminar_impossiveis(lista_de_possibilidades):  # Elimina as tuplas que tem algum itens maior que 26\n",
        "    return {possibilidade for possibilidade in lista_de_possibilidades if int(max(possibilidade, key=int)) <= 26}"
      ],
      "execution_count": null,
      "outputs": []
    },
    {
      "cell_type": "code",
      "metadata": {
        "colab": {
          "base_uri": "https://localhost:8080/"
        },
        "id": "HQpLzHS7OjqU",
        "outputId": "b9ba66c3-4c33-44dc-c2b0-cb2854904761"
      },
      "source": [
        "for cod in testes:\n",
        "  print(eliminar_impossiveis(num_de_maneiras(cod)))"
      ],
      "execution_count": null,
      "outputs": [
        {
          "output_type": "stream",
          "name": "stdout",
          "text": [
            "{('1', '2'), ('12',)}\n",
            "{('1', '23'), ('1', '2', '3'), ('12', '3')}\n",
            "{('1', '2', '3', '4'), ('12', '3', '4'), ('1', '23', '4')}\n",
            "{('1', '1', '2'), ('11', '2'), ('1', '12')}\n",
            "{('22', '7'), ('2', '2', '7')}\n",
            "{('11', '11'), ('1', '1', '1', '1'), ('11', '1', '1'), ('1', '1', '11'), ('1', '11', '1')}\n"
          ]
        }
      ]
    },
    {
      "cell_type": "markdown",
      "metadata": {
        "id": "X8LV0VWSPlRk"
      },
      "source": [
        "Na função eliminar_impossiveis usei um set comprehension para garantir que nenhum resultado aparecerá duas vezes na resposta final, nos testes que realizei acima usar uma lista também funcionária, mas em testes mais extremos usar um set garante que não teremos tuplas duplicadas na resposta final.\n"
      ]
    },
    {
      "cell_type": "markdown",
      "metadata": {
        "id": "QevaJZv5QMM3"
      },
      "source": [
        "# **Resposta final**"
      ]
    },
    {
      "cell_type": "markdown",
      "metadata": {
        "id": "HI1_WAIkhD2X"
      },
      "source": [
        "Com as duas funções em mãos é possível criar uma função que responda o que foi pedido no problema, o número de decodificações possiveis."
      ]
    },
    {
      "cell_type": "markdown",
      "metadata": {
        "id": "aYs15VoPQ3Jj"
      },
      "source": [
        "## Função final\n",
        "A função final recebe um código e:  \n",
        "**1.** Aplicar a função num_de_maneiras no código  \n",
        "**2.** Aplicara a função eliminar_impossiveis no resultado da função num_de_maneiras  \n",
        "**3.** Retornar o número de elementos no set resultado da função eliminar_impossiveis\n",
        "\n",
        "Em Python temos:"
      ]
    },
    {
      "cell_type": "code",
      "metadata": {
        "id": "PQGBGy5aQ0N6"
      },
      "source": [
        "def decode(cod):\n",
        "  return len(eliminar_impossiveis(num_de_maneiras(cod)))"
      ],
      "execution_count": null,
      "outputs": []
    },
    {
      "cell_type": "markdown",
      "metadata": {
        "id": "yCuN73dFRyG1"
      },
      "source": [
        "Realizando os testes:"
      ]
    },
    {
      "cell_type": "code",
      "metadata": {
        "colab": {
          "base_uri": "https://localhost:8080/"
        },
        "id": "52RsFbncRxJy",
        "outputId": "70295608-2d1f-4067-c806-b048c4438cae"
      },
      "source": [
        "for cod in testes:\n",
        "  print(f'Código {cod:>4} = {decode(cod)} decodificações.')"
      ],
      "execution_count": null,
      "outputs": [
        {
          "output_type": "stream",
          "name": "stdout",
          "text": [
            "Código   12 = 2 decodificações.\n",
            "Código  123 = 3 decodificações.\n",
            "Código 1234 = 3 decodificações.\n",
            "Código  112 = 3 decodificações.\n",
            "Código  227 = 2 decodificações.\n",
            "Código 1111 = 5 decodificações.\n"
          ]
        }
      ]
    },
    {
      "cell_type": "markdown",
      "metadata": {
        "id": "vzXWq11mTfWs"
      },
      "source": [
        "# **Visão Geral**"
      ]
    },
    {
      "cell_type": "markdown",
      "metadata": {
        "id": "IHfnUfBAg7mY"
      },
      "source": [
        "A primeira vez que vi esse problema fui num vídeo do canal **CS Dojo** (https://www.youtube.com/watch?v=qli-JCrSwuk). A ideia pareceu super simples, mas fiquei praticamente um dia inteiro pensando em lógicas e maneiras de resolver esse problema. Demorei um bom tempo até que cheguei na lógica de começar com todas as decodificações e depois fazer um filtro.\n",
        "\n",
        "Gostei muito da dinâmica de usar recursão para resolver o problema, eu tinha acabado de descobrir esse método de solução de problemas em uma live (https://youtu.be/1JdcBbJKcVg) de Codewars que fiz com o Binão e a aplicação que usei para resolver esse problema foi bem parecida com a que vimos.\n",
        "\n",
        "Acredito que o maior desafio desse problema não seja criar uma lógica que resolve o problema, mas sim uma lógica que não use tantos recursos computacionais. No vídeo é dito que o problema deve ser resolvido em O(n), como ainda não estudei *Big O notation* não sei se minha proposta de solução atende esse requisito, mas mesmo que não atenda, acredito que vale o registro!\n",
        "\n",
        "Se gostou da solução, tem alguma dica ou comentário me avise! \n",
        "\n",
        "**Instagram:** olv.leo  \n",
        "**E-mail:** olv.leo@outlook  \n",
        "**Git-hub:** http://github.com/olv-leo"
      ]
    }
  ]
}
